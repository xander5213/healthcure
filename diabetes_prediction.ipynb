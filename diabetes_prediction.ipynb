{
 "cells": [
  {
   "cell_type": "markdown",
   "metadata": {
    "id": "PHE6Jx-AMzQC"
   },
   "source": [
    "IMPORTING LIBRARIES AND LOADING DIABETES DATA"
   ]
  },
  {
   "cell_type": "code",
   "execution_count": null,
   "metadata": {
    "id": "bOanzZI1Lgkt"
   },
   "outputs": [],
   "source": [
    "import pickle\n",
    "import xgboost\n",
    "import numpy as np\n",
    "import pandas as pd\n",
    "import seaborn as sns\n",
    "\n",
    "from sklearn.impute import SimpleImputer\n",
    "from sklearn.ensemble import RandomForestClassifier\n",
    "from sklearn.model_selection import train_test_split, cross_val_score\n",
    "from sklearn.model_selection import RandomizedSearchCV\n",
    "from sklearn.metrics import accuracy_score\n",
    "\n",
    "import matplotlib.pyplot as plt\n",
    "%matplotlib inline\n",
    "\n",
    "import warnings\n",
    "warnings.filterwarnings(\"ignore\")"
   ]
  },
  {
   "cell_type": "code",
   "execution_count": null,
   "metadata": {
    "colab": {
     "base_uri": "https://localhost:8080/",
     "height": 206
    },
    "id": "kKW8HcfqL08B",
    "outputId": "cc3b71b4-1eb1-4a3f-affa-46ae32be08fd"
   },
   "outputs": [],
   "source": [
    "pd.set_option('display.max_columns', None)\n",
    "\n",
    "df = pd.read_csv(\"diabetes.csv\")\n",
    "\n",
    "df.head()"
   ]
  },
  {
   "cell_type": "markdown",
   "metadata": {
    "id": "Jtv-Hkt-M5mn"
   },
   "source": [
    "FEATURE ENGINEERING"
   ]
  },
  {
   "cell_type": "code",
   "execution_count": null,
   "metadata": {
    "colab": {
     "base_uri": "https://localhost:8080/"
    },
    "id": "J6D1ABqvL03Z",
    "outputId": "9a66ed66-29da-4f94-c5ec-29ee794aa535"
   },
   "outputs": [],
   "source": [
    "# dataset shape : number of records x number of features\n",
    "print(df.shape)\n",
    "\n",
    "# checking for null values:\n",
    "print(df.isnull().values.any())"
   ]
  },
  {
   "cell_type": "code",
   "execution_count": null,
   "metadata": {
    "colab": {
     "base_uri": "https://localhost:8080/",
     "height": 988
    },
    "id": "UUpwk-JEL01a",
    "outputId": "ee29ef59-b55e-4731-fa9e-2a320a321f41"
   },
   "outputs": [],
   "source": [
    "# correlation\n",
    "corr_mat = df.corr()\n",
    "top_corr_features = corr_mat.index\n",
    "plt.figure(figsize=(15, 15))\n",
    "g = sns.heatmap(corr_mat[top_corr_features].corr(), annot=True, cmap=\"Blues\")"
   ]
  },
  {
   "cell_type": "code",
   "execution_count": null,
   "metadata": {
    "id": "EqPsYeCeNulj"
   },
   "outputs": [],
   "source": [
    "# converting output label i.e. df[diabetes] from boolean to int.\n",
    "df['Outcome'] = df['Outcome'].map({True : 1, False: 0})"
   ]
  },
  {
   "cell_type": "code",
   "execution_count": null,
   "metadata": {
    "colab": {
     "base_uri": "https://localhost:8080/",
     "height": 206
    },
    "id": "6IZCqBAfNug6",
    "outputId": "f0cbd8ed-e1ee-449a-b2cb-26d65e7cbda5"
   },
   "outputs": [],
   "source": [
    "df.head()"
   ]
  },
  {
   "cell_type": "code",
   "execution_count": null,
   "metadata": {
    "id": "ZukIcy5BNufA"
   },
   "outputs": [],
   "source": [
    "diabetes_true_count = len(df.loc[df['Outcome'] == 1])\n",
    "diabetes_false_count = len(df.loc[df['Outcome'] == 0])"
   ]
  },
  {
   "cell_type": "code",
   "execution_count": null,
   "metadata": {
    "colab": {
     "base_uri": "https://localhost:8080/"
    },
    "id": "8RabLzd9OWvs",
    "outputId": "5bf0a033-da72-493a-f7ca-e0e3a01ad5f8"
   },
   "outputs": [],
   "source": [
    "print(\"Data having 1 as output: {}\".format(diabetes_true_count))\n",
    "print(\"Data having 0 as output: {}\".format(diabetes_false_count))"
   ]
  },
  {
   "cell_type": "markdown",
   "metadata": {
    "id": "rEaV_0TqRrZT"
   },
   "source": [
    "FEATURE SELECTION BASED ON CORRELATION AND LATER BY RANDOM FOREST FEATURE IMPORTANCE"
   ]
  },
  {
   "cell_type": "code",
   "execution_count": null,
   "metadata": {
    "id": "_vYj2yPXRqpM"
   },
   "outputs": [],
   "source": [
    "selected_features = ['Pregnancies', 'Glucose', 'BloodPressure', 'SkinThickness', 'Insulin',\n",
    "       'BMI', 'DiabetesPedigreeFunction', 'Age']\n",
    "       \n",
    "output_class = ['Outcome']"
   ]
  },
  {
   "cell_type": "code",
   "execution_count": null,
   "metadata": {
    "id": "c6JiNmUEOWrQ"
   },
   "outputs": [],
   "source": [
    "# converting from df to np array\n",
    "X = df[selected_features].values\n",
    "y = df[output_class].values"
   ]
  },
  {
   "cell_type": "code",
   "execution_count": null,
   "metadata": {
    "id": "Do6yEV5VOWpj"
   },
   "outputs": [],
   "source": [
    "X_train, X_test, y_train, y_test = train_test_split(X, y, test_size=0.2, random_state=42)"
   ]
  },
  {
   "cell_type": "code",
   "execution_count": null,
   "metadata": {
    "colab": {
     "base_uri": "https://localhost:8080/"
    },
    "id": "1YR82EVOOWnN",
    "outputId": "a10b30e7-8ee0-4a7e-d1b0-dfa543d61437"
   },
   "outputs": [],
   "source": [
    "# checking values which are 0:\n",
    "print(\"total number of rows : {0}\".format(len(df)))\n",
    "print(\"number of rows missing Glucose: {0}\".format(len(df.loc[df['Glucose'] == 0])))\n",
    "print(\"number of rows missing BloodPressure: {0}\".format(len(df.loc[df['BloodPressure'] == 0])))\n",
    "print(\"number of rows missing insulin: {0}\".format(len(df.loc[df['Insulin'] == 0])))\n",
    "print(\"number of rows missing bmi: {0}\".format(len(df.loc[df['BMI'] == 0])))\n",
    "print(\"number of rows missing DiabetesPedigreeFunction: {0}\".format(len(df.loc[df['DiabetesPedigreeFunction'] == 0])))\n",
    "print(\"number of rows missing age: {0}\".format(len(df.loc[df['Age'] == 0])))\n",
    "print(\"number of rows missing SkinThickness: {0}\".format(len(df.loc[df['SkinThickness'] == 0])))"
   ]
  },
  {
   "cell_type": "code",
   "execution_count": null,
   "metadata": {
    "id": "BJOLbj5NRzOp"
   },
   "outputs": [],
   "source": [
    "# imputing these missing/zero values\n",
    "\n",
    "missing_values_imputer = SimpleImputer(missing_values=0, strategy='mean')\n",
    "\n",
    "X_train = missing_values_imputer.fit_transform(X_train)\n",
    "X_test = missing_values_imputer.fit_transform(X_test)"
   ]
  },
  {
   "cell_type": "code",
   "execution_count": null,
   "metadata": {
    "colab": {
     "base_uri": "https://localhost:8080/"
    },
    "id": "RFWekk1yRzKM",
    "outputId": "9a9fc26c-ef09-431b-dfb3-7a9a36c4c54e"
   },
   "outputs": [],
   "source": [
    "X_train.shape, X_test.shape"
   ]
  },
  {
   "cell_type": "markdown",
   "metadata": {
    "id": "zmIJnDiTWIwT"
   },
   "source": [
    "APPLYING MACHINE LEARNING ALGORITHM"
   ]
  },
  {
   "cell_type": "code",
   "execution_count": null,
   "metadata": {
    "colab": {
     "base_uri": "https://localhost:8080/"
    },
    "id": "aj26Jn9nRzIc",
    "outputId": "2e44a9bb-f2a4-4f8c-9c8c-e3b8fe39b737"
   },
   "outputs": [],
   "source": [
    "# using random forest classifier\n",
    "rfc = RandomForestClassifier(random_state=10) # ravel : from (n,m) => (n,)\n",
    "rfc.fit(X_train, y_train.ravel())"
   ]
  },
  {
   "cell_type": "code",
   "execution_count": null,
   "metadata": {
    "colab": {
     "base_uri": "https://localhost:8080/"
    },
    "id": "CUvLr04-V_p4",
    "outputId": "4f3c08c9-84df-4aab-e194-8b0726557a55"
   },
   "outputs": [],
   "source": [
    "# random forest classifier accuracy:\n",
    "y_preds = rfc.predict(X_test)\n",
    "print(\"Accuracy : {:.2f}%\".format(accuracy_score(y_test, y_preds)*100))"
   ]
  },
  {
   "cell_type": "markdown",
   "metadata": {
    "id": "VGGjn200D4nl"
   },
   "source": [
    "RANDOM FOREST FEATURE IMPORTANCE FOR FEATURE SELECTION"
   ]
  },
  {
   "cell_type": "code",
   "execution_count": null,
   "metadata": {
    "colab": {
     "base_uri": "https://localhost:8080/"
    },
    "id": "7eFX9fPiC_ku",
    "outputId": "0d4e5162-3714-4b24-b667-cf0b90886df5"
   },
   "outputs": [],
   "source": [
    "f_importance = rfc.feature_importances_\n",
    "\n",
    "final_features = sorted(f_importance)\n",
    "\n",
    "for i, v in enumerate(f_importance):\n",
    "\tprint('{}, Score: {:.5f}'.format(selected_features[i], v))\n",
    "\n",
    "print(final_features)\n",
    "\n",
    "final_selected_features = ['Insulin', 'BMI', 'DiabetesPedigreeFunction', 'Age']"
   ]
  },
  {
   "cell_type": "code",
   "execution_count": null,
   "metadata": {
    "id": "3PpovQIdFIJ8"
   },
   "outputs": [],
   "source": [
    "X_new = df[final_selected_features].values\n",
    "\n",
    "X_train_new, X_test_new, y_train, y_test = train_test_split(X_new, y, test_size=0.2, random_state=42)"
   ]
  },
  {
   "cell_type": "code",
   "execution_count": null,
   "metadata": {
    "id": "coFNuLLsFc33"
   },
   "outputs": [],
   "source": [
    "X_train_new = missing_values_imputer.fit_transform(X_train_new)\n",
    "X_test_new = missing_values_imputer.fit_transform(X_test_new)"
   ]
  },
  {
   "cell_type": "code",
   "execution_count": null,
   "metadata": {
    "colab": {
     "base_uri": "https://localhost:8080/"
    },
    "id": "lRu_f2xdFuKu",
    "outputId": "cc7549cc-b561-47e3-904c-8b25b68b2b96"
   },
   "outputs": [],
   "source": [
    "rfc.fit(X_train_new, y_train.ravel())\n",
    "\n",
    "# random forest classifier accuracy after feature importance:\n",
    "y_preds_new = rfc.predict(X_test_new)\n",
    "print(\"Accuracy : {:.2f}%\".format(accuracy_score(y_test, y_preds_new)*100))"
   ]
  },
  {
   "cell_type": "code",
   "execution_count": null,
   "metadata": {
    "colab": {
     "base_uri": "https://localhost:8080/"
    },
    "id": "wVY_L4g4V_lS",
    "outputId": "22852cf5-d6d8-4cbd-9c87-94abde849bbb"
   },
   "outputs": [],
   "source": [
    "# using xgboost\n",
    "\n",
    "# hyperparameter optimization\n",
    "\n",
    "params = {\n",
    "    \"learning_rate\"    : [0.05, 0.10, 0.15, 0.20, 0.25, 0.30],\n",
    "    \"max_depth\"        : [3, 4, 5, 6, 8, 10, 12, 15],\n",
    "    \"min_child_weight\" : [1, 3, 5, 7],\n",
    "    \"gamma\"            : [0.0, 0.1, 0.2 , 0.3, 0.4],\n",
    "    \"colsample_bytree\" : [0.3, 0.4, 0.5, 0.7]\n",
    "}\n",
    "\n",
    "clf = xgboost.XGBClassifier()\n",
    "\n",
    "random_search = RandomizedSearchCV(\n",
    "    clf, \n",
    "    param_distributions=params, \n",
    "    n_iter=5, \n",
    "    scoring='roc_auc', \n",
    "    n_jobs=-1, \n",
    "    cv=5, \n",
    "    verbose=3\n",
    ")\n",
    "\n",
    "random_search.fit(X_train, y_train.ravel())"
   ]
  },
  {
   "cell_type": "code",
   "execution_count": null,
   "metadata": {
    "colab": {
     "base_uri": "https://localhost:8080/"
    },
    "id": "tKgqc5QBV_i-",
    "outputId": "52016f68-c0c0-4d4c-887e-d32d7684fdab"
   },
   "outputs": [],
   "source": [
    "random_search.best_estimator_"
   ]
  },
  {
   "cell_type": "code",
   "execution_count": null,
   "metadata": {
    "colab": {
     "base_uri": "https://localhost:8080/"
    },
    "id": "AhAFLriZYba7",
    "outputId": "d1abe8f1-c26f-4370-9bc2-3cef838df911"
   },
   "outputs": [],
   "source": [
    "classifier = xgboost.XGBClassifier(base_score=0.5, booster='gbtree', colsample_bylevel=1,\n",
    "              colsample_bynode=1, colsample_bytree=0.7, gamma=0.1,\n",
    "              learning_rate=0.2, max_delta_step=0, max_depth=5,\n",
    "              min_child_weight=7, missing=None, n_estimators=100, n_jobs=1,\n",
    "              nthread=None, objective='binary:logistic', random_state=0,\n",
    "              reg_alpha=0, reg_lambda=1, scale_pos_weight=1, seed=None,\n",
    "              silent=None, subsample=1, verbosity=1)\n",
    "\n",
    "classifier.fit(X_train, y_train.ravel())"
   ]
  },
  {
   "cell_type": "code",
   "execution_count": null,
   "metadata": {
    "colab": {
     "base_uri": "https://localhost:8080/"
    },
    "id": "Fb31FIdsYmD3",
    "outputId": "09b5e690-46f3-44b9-d47b-759266f906bf"
   },
   "outputs": [],
   "source": [
    "score = cross_val_score(classifier, X_train, y_train.ravel(), cv=10)\n",
    "print(score.mean())"
   ]
  },
  {
   "cell_type": "code",
   "execution_count": null,
   "metadata": {
    "colab": {
     "base_uri": "https://localhost:8080/"
    },
    "id": "b4lDvLgoYn_t",
    "outputId": "fcf19309-6254-425b-906a-c5c2f2267d1f"
   },
   "outputs": [],
   "source": [
    "# xgboost classifier accuracy:\n",
    "y_preds = classifier.predict(X_test)\n",
    "print(\"Accuracy : {:.2f}%\".format(accuracy_score(y_test, y_preds)*100))"
   ]
  },
  {
   "cell_type": "code",
   "execution_count": null,
   "metadata": {
    "id": "74x2NXhbb3Ms"
   },
   "outputs": [],
   "source": [
    "# saving trained model\n",
    "filename = 'diabetes.sav'\n",
    "pickle.dump(rfc, open(filename, 'wb'))\n",
    "\n",
    "# loading trained model\n",
    "# model = pickle.load(open(filename, 'rb'))\n",
    "# result = model.score(X_test, y_test)\n",
    "# print(result)"
   ]
  },
  {
   "cell_type": "code",
   "execution_count": null,
   "metadata": {},
   "outputs": [],
   "source": []
  }
 ],
 "metadata": {
  "colab": {
   "name": "diabetes_prediction.ipynb",
   "provenance": []
  },
  "kernelspec": {
   "display_name": "Python 3 (ipykernel)",
   "language": "python",
   "name": "python3"
  },
  "language_info": {
   "codemirror_mode": {
    "name": "ipython",
    "version": 3
   },
   "file_extension": ".py",
   "mimetype": "text/x-python",
   "name": "python",
   "nbconvert_exporter": "python",
   "pygments_lexer": "ipython3",
   "version": "3.9.7"
  }
 },
 "nbformat": 4,
 "nbformat_minor": 1
}
